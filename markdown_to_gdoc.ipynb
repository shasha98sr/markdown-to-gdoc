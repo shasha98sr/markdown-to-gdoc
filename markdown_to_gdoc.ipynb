{
 "cells": [
  {
   "cell_type": "markdown",
   "metadata": {},
   "source": [
    "# Markdown to Google Docs Converter\n",
    "\n",
    "This notebook demonstrates how to convert markdown meeting notes to a formatted Google Doc."
   ]
  },
  {
   "cell_type": "markdown",
   "metadata": {},
   "source": [
    "## Setup\n",
    "\n",
    "First, let's install the required packages:"
   ]
  },
  {
   "cell_type": "code",
   "execution_count": null,
   "metadata": {},
   "outputs": [],
   "source": [
    "!pip install google-auth-oauthlib google-auth-httplib2 google-api-python-client"
   ]
  },
  {
   "cell_type": "markdown",
   "metadata": {},
   "source": [
    "## Authentication\n",
    "\n",
    "You'll need to enable the Google Docs API and download your credentials file. Follow these steps:\n",
    "\n",
    "1. Go to the [Google Cloud Console](https://console.cloud.google.com/)\n",
    "2. Create a new project or select an existing one\n",
    "3. Enable the Google Docs API\n",
    "4. Create credentials (OAuth 2.0 Client ID)\n",
    "5. Download the credentials JSON file\n",
    "6. Upload it to this Colab notebook"
   ]
  },
  {
   "cell_type": "code",
   "execution_count": null,
   "metadata": {},
   "outputs": [],
   "source": [
    "from google.colab import files\n",
    "uploaded = files.upload()\n",
    "creds_file = next(iter(uploaded))"
   ]
  },
  {
   "cell_type": "markdown",
   "metadata": {},
   "source": [
    "## Import and Initialize Converter"
   ]
  },
  {
   "cell_type": "code",
   "execution_count": null,
   "metadata": {},
   "outputs": [],
   "source": [
    "# Download the converter script\n",
    "!wget https://raw.githubusercontent.com/YOUR_USERNAME/markdown-to-gdoc/main/src/markdown_converter.py\n",
    "\n",
    "from markdown_converter import MarkdownToGoogleDocs\n",
    "\n",
    "converter = MarkdownToGoogleDocs()\n",
    "converter.authenticate(creds_file)"
   ]
  },
  {
   "cell_type": "markdown",
   "metadata": {},
   "source": [
    "## Sample Markdown Notes\n",
    "\n",
    "You can either paste your markdown notes here or upload a markdown file:"
   ]
  },
  {
   "cell_type": "code",
   "execution_count": null,
   "metadata": {},
   "outputs": [],
   "source": [
    "markdown_text = \"\"\"# Product Team Sync - May 15, 2023\n",
    "\n",
    "## Attendees\n",
    "- Sarah Chen (Product Lead)\n",
    "- Mike Johnson (Engineering)\n",
    "- Anna Smith (Design)\n",
    "- David Park (QA)\n",
    "\n",
    "## Action Items\n",
    "- [ ] @sarah: Finalize Q3 roadmap by Friday\n",
    "- [ ] @mike: Schedule technical review for payment integration\n",
    "- [ ] @anna: Share updated design system documentation\n",
    "- [ ] @david: Prepare QA resource allocation proposal\n",
    "\"\"\""
   ]
  },
  {
   "cell_type": "markdown",
   "metadata": {},
   "source": [
    "## Convert to Google Doc"
   ]
  },
  {
   "cell_type": "code",
   "execution_count": null,
   "metadata": {},
   "outputs": [],
   "source": [
    "doc_id = converter.convert(markdown_text, \"Product Team Sync Notes\")\n",
    "print(f\"Created document: https://docs.google.com/document/d/{doc_id}/edit\")"
   ]
  }
 ],
 "metadata": {
  "kernelspec": {
   "display_name": "Python 3",
   "language": "python",
   "name": "python3"
  },
  "language_info": {
   "codemirror_mode": {
    "name": "ipython",
    "version": 3
   },
   "file_extension": ".py",
   "mimetype": "text/x-python",
   "name": "python",
   "nbconvert_exporter": "python",
   "pygments_lexer": "ipython3",
   "version": "3.8.0"
  }
 },
 "nbformat": 4,
 "nbformat_minor": 4
}
