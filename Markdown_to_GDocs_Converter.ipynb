{
  "cells": [
    {
      "cell_type": "markdown",
      "metadata": {
        "colab_type": "text",
        "id": "view-in-github"
      },
      "source": [
        "# Markdown to Google Docs Converter\n",
        "\n",
        "This notebook converts markdown meeting notes into a well-formatted Google Doc.\n",
        "\n",
        "## Setup Instructions\n",
        "1. Run the first cell to install required packages\n",
        "2. Run the authentication cell\n",
        "3. Run the conversion cell with your markdown content\n",
        "4. Click the generated link to view your Google Doc"
      ]
    },
    {
      "cell_type": "code",
      "execution_count": null,
      "metadata": {
        "id": "install_dependencies"
      },
      "outputs": [],
      "source": [
        "# Install required packages\n",
        "!pip install --quiet google-auth-oauthlib google-auth-httplib2 google-api-python-client\n",
        "\n",
        "# Download the Python script from GitHub\n",
        "!wget -q https://raw.githubusercontent.com/shasha98sr/markdown-to-gdoc/main/markdown_to_gdoc_colab.py"
      ]
    },
    {
      "cell_type": "code",
      "execution_count": null,
      "metadata": {
        "id": "import_and_setup"
      },
      "outputs": [],
      "source": [
        "from markdown_to_gdoc_colab import MarkdownToGoogleDocs\n",
        "\n",
        "# Sample markdown text - replace with your own\n",
        "markdown_text = \"\"\"# Product Team Sync - May 15, 2023\n",
        "\n",
        "## Attendees\n",
        "- Sarah Chen (Product Lead)\n",
        "- Mike Johnson (Engineering)\n",
        "- Anna Smith (Design)\n",
        "- David Park (QA)\n",
        "\n",
        "## Agenda\n",
        "\n",
        "### 1. Sprint Review\n",
        "* Completed Features\n",
        "  * User authentication flow\n",
        "  * Dashboard redesign\n",
        "  * Performance optimization\n",
        "    * Reduced load time by 40%\n",
        "    * Implemented caching solution\n",
        "* Pending Items\n",
        "  * Mobile responsive fixes\n",
        "  * Beta testing feedback integration\n",
        "\n",
        "## Action Items\n",
        "- [ ] @sarah: Finalize Q3 roadmap by Friday\n",
        "- [ ] @mike: Schedule technical review for payment integration\n",
        "- [ ] @anna: Share updated design system documentation\n",
        "- [ ] @david: Prepare QA resource allocation proposal\n",
        "\n",
        "---\n",
        "Meeting recorded by: Sarah Chen\n",
        "Duration: 45 minutes\"\"\""
      ]
    },
    {
      "cell_type": "code",
      "execution_count": null,
      "metadata": {
        "id": "convert_markdown"
      },
      "outputs": [],
      "source": [
        "# Initialize converter\n",
        "converter = MarkdownToGoogleDocs()\n",
        "\n",
        "# Authenticate\n",
        "converter.authenticate()\n",
        "\n",
        "# Create and format document\n",
        "try:\n",
        "    doc_id = converter.create_document(\"Product Team Sync Notes\")\n",
        "    requests = converter.parse_markdown(markdown_text)\n",
        "    converter.apply_formatting(doc_id, requests)\n",
        "    print(f\"\\nDocument created successfully!\")\n",
        "    print(f\"View your document here: https://docs.google.com/document/d/{doc_id}/edit\")\n",
        "except Exception as e:\n",
        "    print(f\"Error: {str(e)}\")"
      ]
    }
  ],
  "metadata": {
    "colab": {
      "collapsed_sections": [],
      "name": "Markdown to Google Docs Converter",
      "provenance": []
    },
    "kernelspec": {
      "display_name": "Python 3",
      "name": "python3"
    },
    "language_info": {
      "name": "python"
    }
  },
  "nbformat": 4,
  "nbformat_minor": 0
}
